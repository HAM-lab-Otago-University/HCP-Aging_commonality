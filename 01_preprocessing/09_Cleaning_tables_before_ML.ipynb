{
 "cells": [
  {
   "cell_type": "code",
   "execution_count": 1,
   "id": "a43d903d",
   "metadata": {},
   "outputs": [],
   "source": [
    "import pandas as pd\n",
    "import numpy as np\n",
    "import os\n",
    "import glob"
   ]
  },
  {
   "cell_type": "code",
   "execution_count": 2,
   "id": "528c1f18",
   "metadata": {},
   "outputs": [],
   "source": [
    "path_beh = '/media/data/HCPAging/HCPAgingBehavior/'\n",
    "path_data = '/media/data/HCPAging/data/'"
   ]
  },
  {
   "cell_type": "code",
   "execution_count": 3,
   "id": "5f7f6cc8",
   "metadata": {},
   "outputs": [
    {
     "data": {
      "text/html": [
       "<div>\n",
       "<style scoped>\n",
       "    .dataframe tbody tr th:only-of-type {\n",
       "        vertical-align: middle;\n",
       "    }\n",
       "\n",
       "    .dataframe tbody tr th {\n",
       "        vertical-align: top;\n",
       "    }\n",
       "\n",
       "    .dataframe thead th {\n",
       "        text-align: right;\n",
       "    }\n",
       "</style>\n",
       "<table border=\"1\" class=\"dataframe\">\n",
       "  <thead>\n",
       "    <tr style=\"text-align: right;\">\n",
       "      <th></th>\n",
       "      <th>nih_totalcogcomp_unadjusted</th>\n",
       "      <th>nih_crycogcomp_unadjusted</th>\n",
       "      <th>nih_fluidcogcomp_unadjusted</th>\n",
       "    </tr>\n",
       "    <tr>\n",
       "      <th>subject</th>\n",
       "      <th></th>\n",
       "      <th></th>\n",
       "      <th></th>\n",
       "    </tr>\n",
       "  </thead>\n",
       "  <tbody>\n",
       "    <tr>\n",
       "      <th>HCA6002236</th>\n",
       "      <td>112</td>\n",
       "      <td>111</td>\n",
       "      <td>111</td>\n",
       "    </tr>\n",
       "    <tr>\n",
       "      <th>HCA6010538</th>\n",
       "      <td>107</td>\n",
       "      <td>123</td>\n",
       "      <td>90</td>\n",
       "    </tr>\n",
       "    <tr>\n",
       "      <th>HCA6018857</th>\n",
       "      <td>109</td>\n",
       "      <td>108</td>\n",
       "      <td>108</td>\n",
       "    </tr>\n",
       "    <tr>\n",
       "      <th>HCA6030645</th>\n",
       "      <td>96</td>\n",
       "      <td>103</td>\n",
       "      <td>91</td>\n",
       "    </tr>\n",
       "    <tr>\n",
       "      <th>HCA6047359</th>\n",
       "      <td>120</td>\n",
       "      <td>123</td>\n",
       "      <td>111</td>\n",
       "    </tr>\n",
       "    <tr>\n",
       "      <th>...</th>\n",
       "      <td>...</td>\n",
       "      <td>...</td>\n",
       "      <td>...</td>\n",
       "    </tr>\n",
       "    <tr>\n",
       "      <th>HCA9943504</th>\n",
       "      <td>93</td>\n",
       "      <td>101</td>\n",
       "      <td>88</td>\n",
       "    </tr>\n",
       "    <tr>\n",
       "      <th>HCA9947411</th>\n",
       "      <td>93</td>\n",
       "      <td>92</td>\n",
       "      <td>97</td>\n",
       "    </tr>\n",
       "    <tr>\n",
       "      <th>HCA9953406</th>\n",
       "      <td>116</td>\n",
       "      <td>118</td>\n",
       "      <td>110</td>\n",
       "    </tr>\n",
       "    <tr>\n",
       "      <th>HCA9956008</th>\n",
       "      <td>121</td>\n",
       "      <td>118</td>\n",
       "      <td>119</td>\n",
       "    </tr>\n",
       "    <tr>\n",
       "      <th>HCA9992517</th>\n",
       "      <td>102</td>\n",
       "      <td>112</td>\n",
       "      <td>92</td>\n",
       "    </tr>\n",
       "  </tbody>\n",
       "</table>\n",
       "<p>614 rows × 3 columns</p>\n",
       "</div>"
      ],
      "text/plain": [
       "           nih_totalcogcomp_unadjusted nih_crycogcomp_unadjusted  \\\n",
       "subject                                                            \n",
       "HCA6002236                         112                       111   \n",
       "HCA6010538                         107                       123   \n",
       "HCA6018857                         109                       108   \n",
       "HCA6030645                          96                       103   \n",
       "HCA6047359                         120                       123   \n",
       "...                                ...                       ...   \n",
       "HCA9943504                          93                       101   \n",
       "HCA9947411                          93                        92   \n",
       "HCA9953406                         116                       118   \n",
       "HCA9956008                         121                       118   \n",
       "HCA9992517                         102                       112   \n",
       "\n",
       "           nih_fluidcogcomp_unadjusted  \n",
       "subject                                 \n",
       "HCA6002236                         111  \n",
       "HCA6010538                          90  \n",
       "HCA6018857                         108  \n",
       "HCA6030645                          91  \n",
       "HCA6047359                         111  \n",
       "...                                ...  \n",
       "HCA9943504                          88  \n",
       "HCA9947411                          97  \n",
       "HCA9953406                         110  \n",
       "HCA9956008                         119  \n",
       "HCA9992517                          92  \n",
       "\n",
       "[614 rows x 3 columns]"
      ]
     },
     "metadata": {},
     "output_type": "display_data"
    }
   ],
   "source": [
    "df_cog = pd.read_csv(path_beh+'cogcomp01.txt', sep='\\t')\n",
    "df_cog.drop([0], inplace = True)\n",
    "df_cog = df_cog[['src_subject_id', 'nih_totalcogcomp_unadjusted', \n",
    "                 'nih_crycogcomp_unadjusted','nih_fluidcogcomp_unadjusted']]\n",
    "#df_cog.insert(loc=2, column='age_Yrs', value=(np.array(df_cog['interview_age'], dtype=int)/12).round())\n",
    "df_cog = df_cog.rename(columns={'src_subject_id':'subject'})\n",
    "df_cog.index=df_cog['subject']\n",
    "df_cog = df_cog.drop('subject', axis=1)\n",
    "df_cog = df_cog.sort_index(axis=0)\n",
    "df_cog['nih_fluidcogcomp_unadjusted'] = df_cog['nih_fluidcogcomp_unadjusted'].replace('999', np.nan) \n",
    "df_cog = df_cog.dropna()\n",
    "display(df_cog)"
   ]
  },
  {
   "cell_type": "code",
   "execution_count": null,
   "id": "871a4a5f",
   "metadata": {},
   "outputs": [],
   "source": []
  },
  {
   "cell_type": "code",
   "execution_count": 4,
   "id": "41463c9e",
   "metadata": {},
   "outputs": [
    {
     "data": {
      "text/plain": [
       "111"
      ]
     },
     "execution_count": 4,
     "metadata": {},
     "output_type": "execute_result"
    }
   ],
   "source": [
    "725-614"
   ]
  },
  {
   "cell_type": "code",
   "execution_count": 5,
   "id": "31db3e8a",
   "metadata": {},
   "outputs": [
    {
     "name": "stdout",
     "output_type": "stream",
     "text": [
      "Index(['collection_id', 'ndar_subject01_id', 'dataset_id', 'subjectkey',\n",
      "       'src_subject_id', 'interview_date', 'interview_age', 'sex', 'race',\n",
      "       'ethnic_group',\n",
      "       ...\n",
      "       'tourettes_disorder', 'sample', 'race_other', 'respond',\n",
      "       'date_confirmed_phenotype', 'pos_years', 'position1', 'timepoint_label',\n",
      "       'trt_grp_desc', 'collection_title'],\n",
      "      dtype='object', length=139)\n"
     ]
    }
   ],
   "source": [
    "df_dem = pd.read_csv(path_beh+'ndar_subject01.txt', sep='\\t')\n",
    "print(df_dem.columns)"
   ]
  },
  {
   "cell_type": "code",
   "execution_count": null,
   "id": "2a5c58e1",
   "metadata": {},
   "outputs": [],
   "source": [
    "df_dem = pd.read_csv(path_beh+'ndar_subject01.txt', sep='\\t')\n",
    "df_dem.drop([0], inplace = True)\n",
    "df_dem = df_dem[['src_subject_id','interview_age', 'sex', 'race','ethnic_group', 'family_user_def_id']]\n",
    "df_dem = df_dem.rename(columns={'src_subject_id':'subject'})\n",
    "df_dem.index=df_dem['subject']\n",
    "df_dem = df_dem.drop('subject', axis=1)\n",
    "df_dem = df_dem.sort_index(axis=0)\n",
    "#display(df_dem)"
   ]
  },
  {
   "cell_type": "code",
   "execution_count": null,
   "id": "97fda7d9",
   "metadata": {},
   "outputs": [],
   "source": []
  },
  {
   "cell_type": "code",
   "execution_count": 7,
   "id": "1633bf32",
   "metadata": {},
   "outputs": [
    {
     "data": {
      "text/html": [
       "<div>\n",
       "<style scoped>\n",
       "    .dataframe tbody tr th:only-of-type {\n",
       "        vertical-align: middle;\n",
       "    }\n",
       "\n",
       "    .dataframe tbody tr th {\n",
       "        vertical-align: top;\n",
       "    }\n",
       "\n",
       "    .dataframe thead th {\n",
       "        text-align: right;\n",
       "    }\n",
       "</style>\n",
       "<table border=\"1\" class=\"dataframe\">\n",
       "  <thead>\n",
       "    <tr style=\"text-align: right;\">\n",
       "      <th></th>\n",
       "      <th>rest</th>\n",
       "      <th>carit</th>\n",
       "      <th>face</th>\n",
       "      <th>vism</th>\n",
       "    </tr>\n",
       "  </thead>\n",
       "  <tbody>\n",
       "    <tr>\n",
       "      <th>HCA6002236_V1_MR</th>\n",
       "      <td>0.221969</td>\n",
       "      <td>0.151912</td>\n",
       "      <td>0.163308</td>\n",
       "      <td>0.163655</td>\n",
       "    </tr>\n",
       "    <tr>\n",
       "      <th>HCA6018857_V1_MR</th>\n",
       "      <td>0.121793</td>\n",
       "      <td>0.126189</td>\n",
       "      <td>0.112233</td>\n",
       "      <td>0.088389</td>\n",
       "    </tr>\n",
       "    <tr>\n",
       "      <th>HCA6030645_V1_MR</th>\n",
       "      <td>0.103096</td>\n",
       "      <td>0.077005</td>\n",
       "      <td>0.086018</td>\n",
       "      <td>0.069048</td>\n",
       "    </tr>\n",
       "    <tr>\n",
       "      <th>HCA6047359_V1_MR</th>\n",
       "      <td>0.137728</td>\n",
       "      <td>0.093139</td>\n",
       "      <td>0.078572</td>\n",
       "      <td>0.097031</td>\n",
       "    </tr>\n",
       "    <tr>\n",
       "      <th>HCA6051047_V1_MR</th>\n",
       "      <td>0.119103</td>\n",
       "      <td>0.087871</td>\n",
       "      <td>0.089190</td>\n",
       "      <td>0.083807</td>\n",
       "    </tr>\n",
       "    <tr>\n",
       "      <th>...</th>\n",
       "      <td>...</td>\n",
       "      <td>...</td>\n",
       "      <td>...</td>\n",
       "      <td>...</td>\n",
       "    </tr>\n",
       "    <tr>\n",
       "      <th>HCA9947411_V1_MR</th>\n",
       "      <td>0.157572</td>\n",
       "      <td>0.115994</td>\n",
       "      <td>0.085319</td>\n",
       "      <td>0.071216</td>\n",
       "    </tr>\n",
       "    <tr>\n",
       "      <th>HCA9953406_V1_MR</th>\n",
       "      <td>0.043692</td>\n",
       "      <td>0.034927</td>\n",
       "      <td>0.049143</td>\n",
       "      <td>0.030207</td>\n",
       "    </tr>\n",
       "    <tr>\n",
       "      <th>HCA9956008_V1_MR</th>\n",
       "      <td>0.056615</td>\n",
       "      <td>0.065858</td>\n",
       "      <td>0.068382</td>\n",
       "      <td>0.076350</td>\n",
       "    </tr>\n",
       "    <tr>\n",
       "      <th>HCA9986825_V1_MR</th>\n",
       "      <td>0.148619</td>\n",
       "      <td>0.041540</td>\n",
       "      <td>0.044727</td>\n",
       "      <td>0.024838</td>\n",
       "    </tr>\n",
       "    <tr>\n",
       "      <th>HCA9992517_V1_MR</th>\n",
       "      <td>0.085252</td>\n",
       "      <td>0.044195</td>\n",
       "      <td>0.069222</td>\n",
       "      <td>0.039608</td>\n",
       "    </tr>\n",
       "  </tbody>\n",
       "</table>\n",
       "<p>711 rows × 4 columns</p>\n",
       "</div>"
      ],
      "text/plain": [
       "                      rest     carit      face      vism\n",
       "HCA6002236_V1_MR  0.221969  0.151912  0.163308  0.163655\n",
       "HCA6018857_V1_MR  0.121793  0.126189  0.112233  0.088389\n",
       "HCA6030645_V1_MR  0.103096  0.077005  0.086018  0.069048\n",
       "HCA6047359_V1_MR  0.137728  0.093139  0.078572  0.097031\n",
       "HCA6051047_V1_MR  0.119103  0.087871  0.089190  0.083807\n",
       "...                    ...       ...       ...       ...\n",
       "HCA9947411_V1_MR  0.157572  0.115994  0.085319  0.071216\n",
       "HCA9953406_V1_MR  0.043692  0.034927  0.049143  0.030207\n",
       "HCA9956008_V1_MR  0.056615  0.065858  0.068382  0.076350\n",
       "HCA9986825_V1_MR  0.148619  0.041540  0.044727  0.024838\n",
       "HCA9992517_V1_MR  0.085252  0.044195  0.069222  0.039608\n",
       "\n",
       "[711 rows x 4 columns]"
      ]
     },
     "metadata": {},
     "output_type": "display_data"
    }
   ],
   "source": [
    "dct_mov={}\n",
    "for file in sorted(glob.glob('/media/data/HCPAging/data/3T_*/movement_*')):\n",
    "    dct_mov[file.split('/')[-2].split('_')[-1]] = pd.read_csv(file, index_col=0, header=None,squeeze=True)\n",
    "    dct_mov[file.split('/')[-2].split('_')[-1]].name = file.split('/')[-2].split('_')[-1]\n",
    "\n",
    "ix = sorted(set(dct_mov['REST'].index))\n",
    "for key in dct_mov.keys():\n",
    "    if key != 'REST':\n",
    "        ix = sorted(set(np.concatenate((ix, sorted(dct_mov[key].index)), axis=None)))  \n",
    "        \n",
    "df_mov = pd.DataFrame({'ix':ix}, index=ix)\n",
    "for key in dct_mov.keys():\n",
    "    df_mov = pd.concat([df_mov, dct_mov[key]], axis=1)\n",
    "df_mov.drop(['ix'], axis=1, inplace = True)\n",
    "df_mov = df_mov.dropna(axis=0)\n",
    "df_mov.columns = ['rest', 'carit', 'face', 'vism']\n",
    "display(df_mov)"
   ]
  },
  {
   "cell_type": "code",
   "execution_count": 8,
   "id": "5034ed49",
   "metadata": {},
   "outputs": [],
   "source": [
    "iddx_mov = [i[:10] for i in df_mov.index]"
   ]
  },
  {
   "cell_type": "code",
   "execution_count": 9,
   "id": "972a94cb",
   "metadata": {},
   "outputs": [],
   "source": [
    "df_mov.index = iddx_mov"
   ]
  },
  {
   "cell_type": "code",
   "execution_count": null,
   "id": "296e3eaa",
   "metadata": {},
   "outputs": [],
   "source": []
  },
  {
   "cell_type": "code",
   "execution_count": 10,
   "id": "84204aec",
   "metadata": {},
   "outputs": [],
   "source": [
    "df_rest = pd.read_csv('/media/data/HCPAging/data/3T_REST/FC_rest_group_z_hpass.csv', index_col=0)\n",
    "df_carit1 = pd.read_csv('/media/data/HCPAging/data/3T_tfMRI_CARIT/CARIT_group_table_con1.csv', index_col=0)\n",
    "df_carit3 = pd.read_csv('/media/data/HCPAging/data/3T_tfMRI_CARIT/CARIT_group_table_con3.csv', index_col=0)\n",
    "df_carit4 = pd.read_csv('/media/data/HCPAging/data/3T_tfMRI_CARIT/CARIT_group_table_con4.csv', index_col=0)\n",
    "df_caritFC = pd.read_csv('/media/data/HCPAging/data/3T_tfMRI_CARIT/CARIT_task_FC.csv', index_col=0)\n",
    "\n",
    "df_face1 = pd.read_csv('/media/data/HCPAging/data/3T_tfMRI_FACENAME/FACENAME_group_table_3EV_con1.csv', index_col=0)\n",
    "df_face2 = pd.read_csv('/media/data/HCPAging/data/3T_tfMRI_FACENAME/FACENAME_group_table_3EV_con2.csv', index_col=0)\n",
    "df_face3 = pd.read_csv('/media/data/HCPAging/data/3T_tfMRI_FACENAME/FACENAME_group_table_3EV_con3.csv', index_col=0)\n",
    "df_face4 = pd.read_csv('/media/data/HCPAging/data/3T_tfMRI_FACENAME/FACENAME_group_table_3EV_con4.csv', index_col=0)\n",
    "df_face5 = pd.read_csv('/media/data/HCPAging/data/3T_tfMRI_FACENAME/FACENAME_group_table_3EV_con5.csv', index_col=0)\n",
    "df_face6 = pd.read_csv('/media/data/HCPAging/data/3T_tfMRI_FACENAME/FACENAME_group_table_3EV_con6.csv', index_col=0)\n",
    "df_faceFC = pd.read_csv('/media/data/HCPAging/data/3T_tfMRI_FACENAME/FACENAME_task_FC_3EV.csv', index_col=0)\n",
    "\n",
    "df_vism = pd.read_csv('/media/data/HCPAging/data/3T_tfMRI_VISMOTOR/VISMOTOR_group_table.csv', index_col=0)\n",
    "df_vismFC = pd.read_csv('/media/data/HCPAging/data/3T_tfMRI_VISMOTOR/VISMOTOR_task_FC.csv', index_col=0)\n"
   ]
  },
  {
   "cell_type": "code",
   "execution_count": 11,
   "id": "3a7da3cd",
   "metadata": {},
   "outputs": [],
   "source": [
    "for dataset in [df_rest, df_carit1, df_carit3, df_carit4, df_caritFC, \n",
    "                df_face1, df_face2, df_face3, df_face4, df_face5, df_face6, \n",
    "                df_faceFC, df_vism, df_vismFC ]:\n",
    "    dataset.index = [i[:10] for i in dataset.index]"
   ]
  },
  {
   "cell_type": "code",
   "execution_count": null,
   "id": "936d7986",
   "metadata": {},
   "outputs": [],
   "source": []
  },
  {
   "cell_type": "code",
   "execution_count": null,
   "id": "af4c0c2c",
   "metadata": {},
   "outputs": [],
   "source": []
  },
  {
   "cell_type": "code",
   "execution_count": 12,
   "id": "9cbf1f60",
   "metadata": {},
   "outputs": [],
   "source": [
    "dct_struct = {}\n",
    "for file in sorted(glob.glob('/media/data/HCPAging/data/3T_Structural/*.csv')):\n",
    "    data = pd.read_csv(file, index_col=0)\n",
    "    iddx_d = [i[:10] for i in data.index]\n",
    "    data.index = iddx_d\n",
    "    dct_struct[file.split('/')[-1].split('.')[0]] = data"
   ]
  },
  {
   "cell_type": "code",
   "execution_count": 13,
   "id": "ec90323a",
   "metadata": {},
   "outputs": [
    {
     "data": {
      "text/plain": [
       "dict_keys(['cortical_area', 'cortical_thickness', 'subcortical_volume', 'total_brain_volume'])"
      ]
     },
     "execution_count": 13,
     "metadata": {},
     "output_type": "execute_result"
    }
   ],
   "source": [
    "dct_struct.keys()"
   ]
  },
  {
   "cell_type": "code",
   "execution_count": 14,
   "id": "f0b53316",
   "metadata": {},
   "outputs": [
    {
     "data": {
      "text/plain": [
       "717"
      ]
     },
     "execution_count": 14,
     "metadata": {},
     "output_type": "execute_result"
    }
   ],
   "source": [
    "len(df_faceFC.index)"
   ]
  },
  {
   "cell_type": "code",
   "execution_count": null,
   "id": "64ae3aed",
   "metadata": {},
   "outputs": [],
   "source": []
  },
  {
   "cell_type": "code",
   "execution_count": 18,
   "id": "33e83b3a",
   "metadata": {},
   "outputs": [
    {
     "name": "stdout",
     "output_type": "stream",
     "text": [
      "710\n"
     ]
    }
   ],
   "source": [
    "subjects = sorted(list(\n",
    "set(df_mov.index) &\n",
    "set(df_rest.index) &\n",
    "set(df_carit1.index) &\n",
    "set(df_carit3.index) &\n",
    "set(df_carit4.index) &\n",
    "set(df_caritFC.index) &\n",
    "set(df_face1.index) &\n",
    "set(df_face2.index) &\n",
    "set(df_face3.index) &  \n",
    "set(df_face4.index) &\n",
    "set(df_face5.index) &\n",
    "set(df_face6.index) &  \n",
    "set(df_faceFC.index) &     \n",
    "set(df_vism.index) &\n",
    "set(df_vismFC.index) &   \n",
    "set(dct_struct['cortical_area'].index) &\n",
    "set(dct_struct['cortical_thickness'].index) &\n",
    "set(dct_struct['subcortical_volume'].index) &\n",
    "set(dct_struct['total_brain_volume'].index) \n",
    "))\n",
    "print(len(subjects))"
   ]
  },
  {
   "cell_type": "code",
   "execution_count": null,
   "id": "70773184",
   "metadata": {},
   "outputs": [],
   "source": []
  },
  {
   "cell_type": "code",
   "execution_count": 18,
   "id": "eb7d38f6",
   "metadata": {},
   "outputs": [
    {
     "name": "stdout",
     "output_type": "stream",
     "text": [
      "710\n"
     ]
    }
   ],
   "source": [
    "'''subjects = sorted(list(\n",
    "set(df_mov.index) &\n",
    "set(df_rest.index) &\n",
    "set(df_carit.index) &\n",
    "set(df_face.index) &\n",
    "set(df_vism.index) &\n",
    "set(dct_struct['cortical_area'].index) &\n",
    "set(dct_struct['cortical_thickness'].index) &\n",
    "set(dct_struct['subcortical_volume'].index) &\n",
    "set(dct_struct['total_brain_volume'].index) \n",
    "))\n",
    "print(len(subjects))'''\n",
    "#710"
   ]
  },
  {
   "cell_type": "code",
   "execution_count": 19,
   "id": "27de2ab7",
   "metadata": {},
   "outputs": [
    {
     "data": {
      "text/html": [
       "<div>\n",
       "<style scoped>\n",
       "    .dataframe tbody tr th:only-of-type {\n",
       "        vertical-align: middle;\n",
       "    }\n",
       "\n",
       "    .dataframe tbody tr th {\n",
       "        vertical-align: top;\n",
       "    }\n",
       "\n",
       "    .dataframe thead th {\n",
       "        text-align: right;\n",
       "    }\n",
       "</style>\n",
       "<table border=\"1\" class=\"dataframe\">\n",
       "  <thead>\n",
       "    <tr style=\"text-align: right;\">\n",
       "      <th></th>\n",
       "      <th>src_subject_id</th>\n",
       "      <th>QC_Issue_Codes</th>\n",
       "    </tr>\n",
       "  </thead>\n",
       "  <tbody>\n",
       "    <tr>\n",
       "      <th>1</th>\n",
       "      <td>HCA6002236</td>\n",
       "      <td>NaN</td>\n",
       "    </tr>\n",
       "    <tr>\n",
       "      <th>2</th>\n",
       "      <td>HCA6010538</td>\n",
       "      <td>NaN</td>\n",
       "    </tr>\n",
       "    <tr>\n",
       "      <th>3</th>\n",
       "      <td>HCA6018857</td>\n",
       "      <td>NaN</td>\n",
       "    </tr>\n",
       "    <tr>\n",
       "      <th>4</th>\n",
       "      <td>HCA6030645</td>\n",
       "      <td>NaN</td>\n",
       "    </tr>\n",
       "    <tr>\n",
       "      <th>5</th>\n",
       "      <td>HCA6047359</td>\n",
       "      <td>NaN</td>\n",
       "    </tr>\n",
       "    <tr>\n",
       "      <th>...</th>\n",
       "      <td>...</td>\n",
       "      <td>...</td>\n",
       "    </tr>\n",
       "    <tr>\n",
       "      <th>721</th>\n",
       "      <td>HCA9947411</td>\n",
       "      <td>NaN</td>\n",
       "    </tr>\n",
       "    <tr>\n",
       "      <th>722</th>\n",
       "      <td>HCA9953406</td>\n",
       "      <td>C5</td>\n",
       "    </tr>\n",
       "    <tr>\n",
       "      <th>723</th>\n",
       "      <td>HCA9956008</td>\n",
       "      <td>NaN</td>\n",
       "    </tr>\n",
       "    <tr>\n",
       "      <th>724</th>\n",
       "      <td>HCA9986825</td>\n",
       "      <td>B3</td>\n",
       "    </tr>\n",
       "    <tr>\n",
       "      <th>725</th>\n",
       "      <td>HCA9992517</td>\n",
       "      <td>NaN</td>\n",
       "    </tr>\n",
       "  </tbody>\n",
       "</table>\n",
       "<p>725 rows × 2 columns</p>\n",
       "</div>"
      ],
      "text/plain": [
       "    src_subject_id QC_Issue_Codes\n",
       "1       HCA6002236            NaN\n",
       "2       HCA6010538            NaN\n",
       "3       HCA6018857            NaN\n",
       "4       HCA6030645            NaN\n",
       "5       HCA6047359            NaN\n",
       "..             ...            ...\n",
       "721     HCA9947411            NaN\n",
       "722     HCA9953406             C5\n",
       "723     HCA9956008            NaN\n",
       "724     HCA9986825             B3\n",
       "725     HCA9992517            NaN\n",
       "\n",
       "[725 rows x 2 columns]"
      ]
     },
     "metadata": {},
     "output_type": "display_data"
    }
   ],
   "source": [
    "QS_tab = pd.read_csv('/media/data/HCPAging/Doc/HCA_LS_2.0_subject_completeness.csv')[['src_subject_id', 'QC_Issue_Codes']]\n",
    "QS_tab.drop([0], axis=0, inplace = True)\n",
    "display(QS_tab)\n",
    "subj_to_del = QS_tab[QS_tab['QC_Issue_Codes'].isin(['A', 'B1a', 'B1b', 'B1c', 'B2a', 'B2b', 'B2c', 'B2d', 'B3'])]['src_subject_id']"
   ]
  },
  {
   "cell_type": "code",
   "execution_count": 42,
   "id": "535163e2",
   "metadata": {},
   "outputs": [
    {
     "data": {
      "text/html": [
       "<div>\n",
       "<style scoped>\n",
       "    .dataframe tbody tr th:only-of-type {\n",
       "        vertical-align: middle;\n",
       "    }\n",
       "\n",
       "    .dataframe tbody tr th {\n",
       "        vertical-align: top;\n",
       "    }\n",
       "\n",
       "    .dataframe thead th {\n",
       "        text-align: right;\n",
       "    }\n",
       "</style>\n",
       "<table border=\"1\" class=\"dataframe\">\n",
       "  <thead>\n",
       "    <tr style=\"text-align: right;\">\n",
       "      <th></th>\n",
       "      <th>src_subject_id</th>\n",
       "      <th>QC_Issue_Codes</th>\n",
       "    </tr>\n",
       "  </thead>\n",
       "  <tbody>\n",
       "    <tr>\n",
       "      <th>10</th>\n",
       "      <td>HCA6061757</td>\n",
       "      <td>B3</td>\n",
       "    </tr>\n",
       "    <tr>\n",
       "      <th>11</th>\n",
       "      <td>HCA6062456</td>\n",
       "      <td>B3</td>\n",
       "    </tr>\n",
       "    <tr>\n",
       "      <th>16</th>\n",
       "      <td>HCA6089375</td>\n",
       "      <td>B3</td>\n",
       "    </tr>\n",
       "    <tr>\n",
       "      <th>25</th>\n",
       "      <td>HCA6111241</td>\n",
       "      <td>B2b</td>\n",
       "    </tr>\n",
       "    <tr>\n",
       "      <th>28</th>\n",
       "      <td>HCA6120646</td>\n",
       "      <td>B3</td>\n",
       "    </tr>\n",
       "    <tr>\n",
       "      <th>...</th>\n",
       "      <td>...</td>\n",
       "      <td>...</td>\n",
       "    </tr>\n",
       "    <tr>\n",
       "      <th>699</th>\n",
       "      <td>HCA9800885</td>\n",
       "      <td>B1b</td>\n",
       "    </tr>\n",
       "    <tr>\n",
       "      <th>701</th>\n",
       "      <td>HCA9845403</td>\n",
       "      <td>B2b</td>\n",
       "    </tr>\n",
       "    <tr>\n",
       "      <th>702</th>\n",
       "      <td>HCA9865005</td>\n",
       "      <td>B3</td>\n",
       "    </tr>\n",
       "    <tr>\n",
       "      <th>707</th>\n",
       "      <td>HCA9882308</td>\n",
       "      <td>B3</td>\n",
       "    </tr>\n",
       "    <tr>\n",
       "      <th>724</th>\n",
       "      <td>HCA9986825</td>\n",
       "      <td>B3</td>\n",
       "    </tr>\n",
       "  </tbody>\n",
       "</table>\n",
       "<p>117 rows × 2 columns</p>\n",
       "</div>"
      ],
      "text/plain": [
       "    src_subject_id QC_Issue_Codes\n",
       "10      HCA6061757             B3\n",
       "11      HCA6062456             B3\n",
       "16      HCA6089375             B3\n",
       "25      HCA6111241            B2b\n",
       "28      HCA6120646             B3\n",
       "..             ...            ...\n",
       "699     HCA9800885            B1b\n",
       "701     HCA9845403            B2b\n",
       "702     HCA9865005             B3\n",
       "707     HCA9882308             B3\n",
       "724     HCA9986825             B3\n",
       "\n",
       "[117 rows x 2 columns]"
      ]
     },
     "execution_count": 42,
     "metadata": {},
     "output_type": "execute_result"
    }
   ],
   "source": [
    "QS_tab[QS_tab['QC_Issue_Codes'].isin(['A', 'B1a', 'B1b', 'B1c', 'B2a', 'B2b', 'B2c', 'B2d', 'B3'])].dropna()"
   ]
  },
  {
   "cell_type": "code",
   "execution_count": null,
   "id": "284fea6c",
   "metadata": {},
   "outputs": [],
   "source": []
  },
  {
   "cell_type": "code",
   "execution_count": 21,
   "id": "1ec3c5d6",
   "metadata": {},
   "outputs": [],
   "source": [
    "for sd in subj_to_del:\n",
    "    #sd = sd+'_V1_MR'\n",
    "    if sd in subjects:\n",
    "        #print(sd,' in subj')\n",
    "        subjects.remove(sd)"
   ]
  },
  {
   "cell_type": "code",
   "execution_count": 22,
   "id": "672f6065",
   "metadata": {},
   "outputs": [
    {
     "name": "stdout",
     "output_type": "stream",
     "text": [
      "595\n"
     ]
    }
   ],
   "source": [
    "print(len(subjects))"
   ]
  },
  {
   "cell_type": "code",
   "execution_count": 41,
   "id": "4f8fc8e4",
   "metadata": {},
   "outputs": [
    {
     "data": {
      "text/plain": [
       "115"
      ]
     },
     "execution_count": 41,
     "metadata": {},
     "output_type": "execute_result"
    }
   ],
   "source": [
    "710-595\n"
   ]
  },
  {
   "cell_type": "code",
   "execution_count": 23,
   "id": "399888a1",
   "metadata": {},
   "outputs": [],
   "source": [
    "cog_ind =df_cog.dropna().index#[ i+'_V1_MR' for i in df_cog.dropna().index]"
   ]
  },
  {
   "cell_type": "code",
   "execution_count": 24,
   "id": "2c2f3fed",
   "metadata": {},
   "outputs": [
    {
     "data": {
      "text/plain": [
       "504"
      ]
     },
     "execution_count": 24,
     "metadata": {},
     "output_type": "execute_result"
    }
   ],
   "source": [
    "subjects = sorted(set(cog_ind) & set(subjects))\n",
    "len(subjects)"
   ]
  },
  {
   "cell_type": "code",
   "execution_count": null,
   "id": "b2ac9ce4",
   "metadata": {},
   "outputs": [],
   "source": []
  },
  {
   "cell_type": "code",
   "execution_count": 28,
   "id": "7f4a6b3b",
   "metadata": {},
   "outputs": [],
   "source": [
    "path_out = '/media/data/HCPAging/data/MLTablesMultCon/'"
   ]
  },
  {
   "cell_type": "code",
   "execution_count": 29,
   "id": "40109cf9",
   "metadata": {},
   "outputs": [],
   "source": [
    "datasets = [df_mov,\n",
    "df_rest,\n",
    "df_carit1,\n",
    "df_carit3,\n",
    "df_carit4,\n",
    "df_caritFC,\n",
    "df_face1,\n",
    "df_face2,\n",
    "df_face3,\n",
    "df_face4,\n",
    "df_face5,\n",
    "df_face6, \n",
    "df_faceFC,    \n",
    "df_vism,\n",
    "df_vismFC,\n",
    "dct_struct['cortical_area'],\n",
    "dct_struct['cortical_thickness'],\n",
    "dct_struct['subcortical_volume'],\n",
    "dct_struct['total_brain_volume'],\n",
    "df_dem,\n",
    "df_cog]"
   ]
  },
  {
   "cell_type": "code",
   "execution_count": 30,
   "id": "148400e4",
   "metadata": {},
   "outputs": [],
   "source": [
    "name_dsets = ['movements.csv',\n",
    "'rest_hpass.csv',\n",
    "'carit-con1.csv',\n",
    "'carit-con3.csv',\n",
    "'carit-con4.csv',\n",
    "'CARIT_taskFC.csv',\n",
    "'FACENAME_group_table_3EV_con1.csv',\n",
    "'FACENAME_group_table_3EV_con2.csv',\n",
    "'FACENAME_group_table_3EV_con3.csv',\n",
    "'FACENAME_group_table_3EV_con4.csv',\n",
    "'FACENAME_group_table_3EV_con5.csv',\n",
    "'FACENAME_group_table_3EV_con6.csv',\n",
    "'FACENAME_task_FC_3EV.csv',\n",
    "'vism.csv',\n",
    "'VISMOTOR_taskFC.csv',\n",
    "'surf.csv',\n",
    "'cort.csv',\n",
    "'subc.csv',\n",
    "'VolBrain.csv',\n",
    "'demography.csv',\n",
    "'cognition.csv']"
   ]
  },
  {
   "cell_type": "code",
   "execution_count": 32,
   "id": "60616ece",
   "metadata": {},
   "outputs": [],
   "source": [
    "for dataset, name_dset in zip(datasets, name_dsets):\n",
    "    dataset.reindex(index=subjects).to_csv(path_out+name_dset)\n"
   ]
  },
  {
   "cell_type": "code",
   "execution_count": null,
   "id": "bd9cb589",
   "metadata": {},
   "outputs": [],
   "source": []
  },
  {
   "cell_type": "code",
   "execution_count": null,
   "id": "542ebd17",
   "metadata": {},
   "outputs": [],
   "source": []
  },
  {
   "cell_type": "code",
   "execution_count": null,
   "id": "9119597c",
   "metadata": {},
   "outputs": [],
   "source": [
    "ffdem = df_dem.reindex(index=subjects)\n",
    "#display(ffdem)"
   ]
  },
  {
   "cell_type": "code",
   "execution_count": 32,
   "id": "34b3fb12",
   "metadata": {},
   "outputs": [
    {
     "data": {
      "text/plain": [
       "693.938492063492"
      ]
     },
     "execution_count": 32,
     "metadata": {},
     "output_type": "execute_result"
    }
   ],
   "source": [
    "ffdem['interview_age'].astype('int').mean()"
   ]
  },
  {
   "cell_type": "code",
   "execution_count": 34,
   "id": "60520986",
   "metadata": {},
   "outputs": [
    {
     "data": {
      "text/plain": [
       "57.82820767195767"
      ]
     },
     "execution_count": 34,
     "metadata": {},
     "output_type": "execute_result"
    }
   ],
   "source": [
    "ffdem['interview_age'].astype('int').mean() / 12"
   ]
  },
  {
   "cell_type": "code",
   "execution_count": 35,
   "id": "b975bdfc",
   "metadata": {},
   "outputs": [
    {
     "data": {
      "text/plain": [
       "170.9573737650415"
      ]
     },
     "execution_count": 35,
     "metadata": {},
     "output_type": "execute_result"
    }
   ],
   "source": [
    "ffdem['interview_age'].astype('int').std()"
   ]
  },
  {
   "cell_type": "code",
   "execution_count": 36,
   "id": "c0ad2cef",
   "metadata": {},
   "outputs": [
    {
     "data": {
      "text/plain": [
       "14.246447813753457"
      ]
     },
     "execution_count": 36,
     "metadata": {},
     "output_type": "execute_result"
    }
   ],
   "source": [
    "ffdem['interview_age'].astype('int').std() / 12"
   ]
  },
  {
   "cell_type": "code",
   "execution_count": 38,
   "id": "af4b0f42",
   "metadata": {},
   "outputs": [
    {
     "data": {
      "text/plain": [
       "293"
      ]
     },
     "execution_count": 38,
     "metadata": {},
     "output_type": "execute_result"
    }
   ],
   "source": [
    "len(ffdem['sex'][ffdem['sex'] == 'F'])"
   ]
  },
  {
   "cell_type": "code",
   "execution_count": null,
   "id": "52e031bc",
   "metadata": {},
   "outputs": [],
   "source": []
  }
 ],
 "metadata": {
  "kernelspec": {
   "display_name": "Python 3 (ipykernel)",
   "language": "python",
   "name": "python3"
  },
  "language_info": {
   "codemirror_mode": {
    "name": "ipython",
    "version": 3
   },
   "file_extension": ".py",
   "mimetype": "text/x-python",
   "name": "python",
   "nbconvert_exporter": "python",
   "pygments_lexer": "ipython3",
   "version": "3.7.10"
  }
 },
 "nbformat": 4,
 "nbformat_minor": 5
}
