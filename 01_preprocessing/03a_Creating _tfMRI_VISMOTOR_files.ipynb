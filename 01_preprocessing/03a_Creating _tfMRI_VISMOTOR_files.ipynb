{
 "cells": [
  {
   "cell_type": "code",
   "execution_count": 1,
   "id": "22815298",
   "metadata": {},
   "outputs": [],
   "source": [
    "import pandas as pd\n",
    "import numpy as np\n",
    "import os\n",
    "import glob\n",
    "import sys\n",
    "import shutil"
   ]
  },
  {
   "cell_type": "code",
   "execution_count": 3,
   "id": "80d3ad09",
   "metadata": {},
   "outputs": [],
   "source": [
    "#path to folder with all subjects data\n",
    "\n",
    "path = '/media/data/HCPAging/data/VISMOTORTaskRecommended/fmriresults01/'\n",
    "#outputs\n",
    "os.makedirs('/media/data/HCPAging/data/3T_tfMRI_VISMOTOR')\n",
    "path_out = '/media/data/HCPAging/data/3T_tfMRI_VISMOTOR/'"
   ]
  },
  {
   "cell_type": "code",
   "execution_count": 4,
   "id": "78b89e71",
   "metadata": {},
   "outputs": [
    {
     "name": "stdout",
     "output_type": "stream",
     "text": [
      "721\n"
     ]
    }
   ],
   "source": [
    "#read subjects\n",
    "subjects = sorted([name.split('/')[-1] for name in glob.glob(path+'*_V1_MR')])\n",
    "print(len(subjects))\n",
    "#print(subjects)"
   ]
  },
  {
   "cell_type": "markdown",
   "id": "aa50682e",
   "metadata": {},
   "source": [
    "### Movements"
   ]
  },
  {
   "cell_type": "code",
   "execution_count": 5,
   "id": "3359d9ec",
   "metadata": {},
   "outputs": [],
   "source": [
    "#Assembling movements into one\n",
    "vec = np.array([], dtype=float)\n",
    "nms=[]\n",
    "for subject in subjects:\n",
    "    file =  glob.glob(path + subject +'/*/*/*/Movement_RelativeRMS_mean*')[0]\n",
    "    if os.path.isfile(file) == True:\n",
    "        nms += [subject]\n",
    "        vec = np.append(vec, np.loadtxt(file))\n",
    "    else:\n",
    "        print(subject, 'issue')\n",
    "df_mov = pd.Series(vec, index=nms)  \n",
    "df_mov.to_csv(path_out+'movement_table_VISMOTOR_without_nan.csv', header=None)"
   ]
  },
  {
   "cell_type": "markdown",
   "id": "181536ec",
   "metadata": {},
   "source": [
    "### CIFTI files"
   ]
  },
  {
   "cell_type": "code",
   "execution_count": 6,
   "id": "6a1ae06a",
   "metadata": {},
   "outputs": [],
   "source": [
    "#subjects without nan\n",
    "subjects = sorted(df_mov.dropna(axis=0).index)"
   ]
  },
  {
   "cell_type": "code",
   "execution_count": 7,
   "id": "9100d4a4",
   "metadata": {},
   "outputs": [
    {
     "data": {
      "text/plain": [
       "721"
      ]
     },
     "execution_count": 7,
     "metadata": {},
     "output_type": "execute_result"
    }
   ],
   "source": [
    "len(subjects)"
   ]
  },
  {
   "cell_type": "code",
   "execution_count": 10,
   "id": "a4e97f9f",
   "metadata": {},
   "outputs": [],
   "source": [
    "#subdirectory for processing\n",
    "os.mkdir(path_out+'data')"
   ]
  },
  {
   "cell_type": "markdown",
   "id": "6c6d282f",
   "metadata": {},
   "source": [
    "##### create fakeNIFTI file "
   ]
  },
  {
   "cell_type": "code",
   "execution_count": null,
   "id": "0104507f",
   "metadata": {},
   "outputs": [],
   "source": [
    "#subject=subjects[0]\n",
    "for subject in subjects:\n",
    "    #check if subject has cifti file and events files\n",
    "    if os.path.isfile(glob.glob(path+subject+'/*/*/*/*Atlas_MSMAll_hp0_clean.dtseries.nii')[0]) == True and os.path.isdir(glob.glob(path+subject+'/*/*/*/EVs')[0])==True:\n",
    "        os.mkdir(path_out+'data/'+subject) #subject folder\n",
    "\n",
    "        #create fakeNIFTI\n",
    "        cmd1= 'wb_command -cifti-convert -to-nifti ' + glob.glob(path+subject+'/*/*/*/*Atlas_MSMAll_hp0_clean.dtseries.nii')[0] +' '+ path_out+'data/'+subject+'/tfMRI_MSMAll_clean_fakeNIFTI.nii.gz'\n",
    "        os.system(cmd1)\n",
    "        #create a template for reverse trensformation\n",
    "        cmd2='wb_command -cifti-reduce ' + glob.glob(path+subject+'/*/*/*/*Atlas_MSMAll_hp0_clean.dtseries.nii')[0]  + ' MEAN ' + path_out+'data/'+subject+'/template_cifti_aver.dscalar.nii' + ' -direction  ROW'\n",
    "        os.system(cmd2)\n",
    "        #change TR\n",
    "        cmd3 = 'fslmerge -tr '+ path_out+'data/'+subject+'/tfMRI_MSMAll_clean_fakeNIFTI.nii.gz' +' '+ path_out+'data/'+subject+'/tfMRI_MSMAll_clean_fakeNIFTI.nii.gz' + ' 0.8'\n",
    "        os.system(cmd3)\n",
    "        #copy event files\n",
    "        cmd4 = 'cp -R ' + glob.glob(path+subject+'/*/*/*/EVs')[0] +' '+ path_out+'data/'+subject+'/EVs'\n",
    "        os.system(cmd4)\n",
    "    else:\n",
    "        print(subjects, ' has missing things')"
   ]
  },
  {
   "cell_type": "code",
   "execution_count": null,
   "id": "db8d818f",
   "metadata": {},
   "outputs": [],
   "source": []
  },
  {
   "cell_type": "code",
   "execution_count": null,
   "id": "438b9b5f",
   "metadata": {},
   "outputs": [],
   "source": []
  },
  {
   "cell_type": "code",
   "execution_count": null,
   "id": "9ced5fed",
   "metadata": {},
   "outputs": [],
   "source": []
  },
  {
   "cell_type": "code",
   "execution_count": null,
   "id": "3a9a8f24",
   "metadata": {},
   "outputs": [],
   "source": []
  },
  {
   "cell_type": "code",
   "execution_count": null,
   "id": "6ba1144b",
   "metadata": {},
   "outputs": [],
   "source": []
  },
  {
   "cell_type": "code",
   "execution_count": null,
   "id": "0101599c",
   "metadata": {},
   "outputs": [],
   "source": []
  }
 ],
 "metadata": {
  "kernelspec": {
   "display_name": "Python 3 (ipykernel)",
   "language": "python",
   "name": "python3"
  },
  "language_info": {
   "codemirror_mode": {
    "name": "ipython",
    "version": 3
   },
   "file_extension": ".py",
   "mimetype": "text/x-python",
   "name": "python",
   "nbconvert_exporter": "python",
   "pygments_lexer": "ipython3",
   "version": "3.7.10"
  }
 },
 "nbformat": 4,
 "nbformat_minor": 5
}
