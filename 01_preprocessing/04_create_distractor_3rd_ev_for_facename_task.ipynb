{
 "cells": [
  {
   "cell_type": "code",
   "execution_count": 1,
   "id": "f4546b5b",
   "metadata": {},
   "outputs": [],
   "source": [
    "import pandas as pd\n",
    "import numpy as np\n",
    "import glob\n",
    "import os"
   ]
  },
  {
   "cell_type": "code",
   "execution_count": 51,
   "id": "845c8e12",
   "metadata": {},
   "outputs": [],
   "source": [
    "path = '/media/data/HCPAging/data/3T_tfMRI_FACENAME/data/'"
   ]
  },
  {
   "cell_type": "code",
   "execution_count": 59,
   "id": "0e3238dd",
   "metadata": {},
   "outputs": [],
   "source": [
    "subjects = sorted([i.split('/')[-1] for i in glob.glob(path+'*_V1_MR')])"
   ]
  },
  {
   "cell_type": "code",
   "execution_count": 60,
   "id": "5b568847",
   "metadata": {},
   "outputs": [],
   "source": [
    "for subject in subjects:\n",
    "    #read encoding txt\n",
    "    enc = pd.read_csv(path+subject+'/EVs/encoding.txt', sep=' ', header=None)\n",
    "    #calculate timing for distractor\n",
    "    dct_d = {}\n",
    "    for ind in enc.index:\n",
    "        dct_d[ind] = [(enc.loc[ind,0].round() + enc.loc[ind,1].round() + 2), 18, 1]\n",
    "    #make dataframe\n",
    "    dist = pd.DataFrame(dct_d).T.astype(int)\n",
    "    #save to file with tab spacing\n",
    "    dist.to_csv(path+subject+'/EVs/distractor.txt', index=False, header=False, sep='\\t')"
   ]
  },
  {
   "cell_type": "code",
   "execution_count": null,
   "id": "fcc767b8",
   "metadata": {},
   "outputs": [],
   "source": []
  }
 ],
 "metadata": {
  "kernelspec": {
   "display_name": "Python 3 (ipykernel)",
   "language": "python",
   "name": "python3"
  },
  "language_info": {
   "codemirror_mode": {
    "name": "ipython",
    "version": 3
   },
   "file_extension": ".py",
   "mimetype": "text/x-python",
   "name": "python",
   "nbconvert_exporter": "python",
   "pygments_lexer": "ipython3",
   "version": "3.7.10"
  }
 },
 "nbformat": 4,
 "nbformat_minor": 5
}
