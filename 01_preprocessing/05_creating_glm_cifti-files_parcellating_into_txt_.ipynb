{
 "cells": [
  {
   "cell_type": "code",
   "execution_count": 1,
   "id": "6fbba66c",
   "metadata": {},
   "outputs": [],
   "source": [
    "import pandas as pd\n",
    "import numpy as np\n",
    "import os\n",
    "import glob"
   ]
  },
  {
   "cell_type": "code",
   "execution_count": 2,
   "id": "99f6bb31",
   "metadata": {},
   "outputs": [
    {
     "name": "stdout",
     "output_type": "stream",
     "text": [
      "['3T_tfMRI_VISMOTOR', '3T_tfMRI_FACENAME', '3T_tfMRI_CARIT']\n"
     ]
    }
   ],
   "source": [
    "path = '/media/data/HCPAging/data/'\n",
    "folders = [i.split('/')[-1] for i in sorted(glob.glob(path+'3T_tfMRI_*'), reverse=True)]\n",
    "print(folders)"
   ]
  },
  {
   "cell_type": "markdown",
   "id": "9eef9b85",
   "metadata": {},
   "source": [
    "### Converting FakeNIFTI to CIFTI files"
   ]
  },
  {
   "cell_type": "code",
   "execution_count": null,
   "id": "f93702ad",
   "metadata": {},
   "outputs": [],
   "source": [
    "for folder in folders:\n",
    "    if folder != '3T_tfMRI_CARIT':\n",
    "        subjects = [i.split('/')[-1] for i in  sorted(glob.glob(path+folder+'/data/*V1_MR'))]\n",
    "        for subject in subjects:\n",
    "            files = sorted(glob.glob(path+folder+'/*/'+subject+'/*fakeNIFTI*feat/stats/cope*.nii.gz'))\n",
    "            os.mkdir(glob.glob(path+folder+'/*/'+subject)[0]+'/contrasts_cifti')\n",
    "            for file in files:\n",
    "                cmd = 'wb_command -cifti-convert -from-nifti '+ file +' '+glob.glob(path+folder+'/*/'+subject)[0]+'/template_cifti_aver.dscalar.nii'+' '+ glob.glob(path+folder+'/*/'+subject)[0]+'/contrasts_cifti/'+file.split('/')[-1].split('.')[0]+'.unwrapped.dscalar.nii'\n",
    "                os.system(cmd)\n",
    "    if folder == '3T_tfMRI_CARIT':\n",
    "        subjects = [i.split('/')[-1] for i in  sorted(glob.glob(path+folder+'/data/*V1_MR'))]\n",
    "        for subject in subjects:\n",
    "            files1 = sorted(glob.glob(path+folder+'/*/'+subject+'/*fakeNIFTI.feat/stats/cope*.nii.gz'))\n",
    "            files2 = sorted(glob.glob(path+folder+'/*/'+subject+'/*fakeNIFTI+.feat/stats/cope*.nii.gz'))\n",
    "            os.mkdir(glob.glob(path+folder+'/*/'+subject)[0]+'/contrasts_cifti')\n",
    "            os.mkdir(glob.glob(path+folder+'/*/'+subject)[0]+'/contrasts_cifti_cor')\n",
    "            for file in files1:\n",
    "                cmd = 'wb_command -cifti-convert -from-nifti '+ file +' '+glob.glob(path+folder+'/*/'+subject)[0]+'/template_cifti_aver.dscalar.nii'+' '+ glob.glob(path+folder+'/*/'+subject)[0]+'/contrasts_cifti/'+file.split('/')[-1].split('.')[0]+'.unwrapped.dscalar.nii'\n",
    "                os.system(cmd)            \n",
    "            for file in files2:\n",
    "                cmd = 'wb_command -cifti-convert -from-nifti '+ file +' '+glob.glob(path+folder+'/*/'+subject)[0]+'/template_cifti_aver.dscalar.nii'+' '+ glob.glob(path+folder+'/*/'+subject)[0]+'/contrasts_cifti_cor/'+file.split('/')[-1].split('.')[0]+'.unwrapped.dscalar.nii'\n",
    "                os.system(cmd)        "
   ]
  },
  {
   "cell_type": "code",
   "execution_count": null,
   "id": "f36d3fa7",
   "metadata": {},
   "outputs": [],
   "source": []
  },
  {
   "cell_type": "markdown",
   "id": "33a6533c",
   "metadata": {},
   "source": [
    "### Parcellate CIFTI files and extract txts"
   ]
  },
  {
   "cell_type": "code",
   "execution_count": 29,
   "id": "dd351823",
   "metadata": {},
   "outputs": [],
   "source": [
    "#atlases\n",
    "parc='/media/DataD800/Alina/atlases/Q1-Q6_RelatedValidation210.CorticalAreas_dil_Final_Final_Areas_Group_Colors.32k_fs_LR.dlabel.nii'\n",
    "mask_fs_path='/media/DataD800/Alina/atlases/FS_subcort'\n",
    "gla_index = np.loadtxt('/media/DataD800/Alina/atlases/gla_index.txt', dtype=str)"
   ]
  },
  {
   "cell_type": "code",
   "execution_count": 51,
   "id": "b1724186",
   "metadata": {},
   "outputs": [],
   "source": [
    "for folder in folders[:-1]: #for Facename and vismot\n",
    "    \n",
    "    #create folder for intermediate files storing\n",
    "    os.makedirs(path+folder+'/MSMAll/cort_MSMAll_av_Glasser')\n",
    "    os.mkdir(path+folder+'/MSMAll/cort_MSMAll_av_Glasser_txt')\n",
    "    os.mkdir(path+folder+'/MSMAll/subcort_MSMAll_con')\n",
    "    os.mkdir(path+folder+'/MSMAll/subc_FS_MSMAll_txt')\n",
    "    \n",
    "    #read subjects IDs\n",
    "    subjects = [i.split('/')[-1] for i in  sorted(glob.glob(path+folder+'/data/*V1_MR'))]\n",
    "    \n",
    "    #assign the number of contrast to parcellate for each task (main task contrast)\n",
    "    if folder == '3T_tfMRI_FACENAME':\n",
    "        con_nums = np.arange(1,7,1)\n",
    "    if folder == '3T_tfMRI_VISMOTOR': \n",
    "        con_nums = [1]\n",
    "    if folder == '3T_tfMRI_CARIT':\n",
    "        con_nums = [1, 3, 4]\n",
    "    \n",
    "    for subject in subjects:\n",
    "        for con_num in con_nums:\n",
    "            \n",
    "            #file for parcellation\n",
    "            file = sorted(glob.glob(path+folder+'/*/'+subject+'/contrasts_cifti/*'+str(con_num)+'*'))[0]\n",
    "\n",
    "            if os.path.isfile(file) == True:\n",
    "\n",
    "                #parcellate, extract txt, separate subcortex as nii\n",
    "                cmd1 = 'wb_command -cifti-parcellate ' + file +' '+ parc + ' COLUMN '+ path+folder+'/MSMAll/cort_MSMAll_av_Glasser/'+subject+'.'+file.split('/')[-1].split('.')[0]+'.MSMAll.aver_parc.pscalar.nii' + ' -method MEAN'\n",
    "                cmd2 = 'wb_command -cifti-convert -to-text '+ path+folder+'/MSMAll/cort_MSMAll_av_Glasser/'+subject+'.'+file.split('/')[-1].split('.')[0]+'.MSMAll.aver_parc.pscalar.nii' +' '+ path+folder+'/MSMAll/cort_MSMAll_av_Glasser_txt/'+subject+'.'+file.split('/')[-1].split('.')[0]+'.MSMAll.aver_parc.txt'\n",
    "                cmd3 = 'wb_command -cifti-separate ' + file + ' COLUMN  ' + ' -volume-all ' + path+folder+'/MSMAll/subcort_MSMAll_con/'+subject+'.'+file.split('/')[-1].split('.')[0]+'.MSMAll.con_subc.nii.gz'\n",
    "                os.system(cmd1)\n",
    "                os.system(cmd2)\n",
    "                os.system(cmd3)\n",
    "\n",
    "                #create folder for subcortex files\n",
    "                os.mkdir(path+folder+'/MSMAll/subc_FS_MSMAll_txt/'+subject)\n",
    "\n",
    "                #extract txt for each subcortex structure\n",
    "                for mask in sorted(os.listdir(mask_fs_path)):\n",
    "                    cmd4 = 'fslmeants -i ' + path+folder+'/MSMAll/subcort_MSMAll_con/'+subject+'.'+file.split('/')[-1].split('.')[0]+'.MSMAll.con_subc.nii.gz' + ' -m ' + mask_fs_path+'/'+mask + ' -o ' + path+folder+'/MSMAll/subc_FS_MSMAll_txt/'+subject+'/'+subject+'.'+file.split('/')[-1].split('.')[0]+'.FS_subcort.'+mask.split('.')[0]+'.mean.txt'\n",
    "                    os.system(cmd4)\n",
    "            else:\n",
    "                print(subject, folder, ' cifti file issue, need to be reconstructed')\n"
   ]
  },
  {
   "cell_type": "code",
   "execution_count": null,
   "id": "3bc5153d",
   "metadata": {},
   "outputs": [],
   "source": [
    "#additional calculations for CARIT task, for correct answers only\n",
    "\n",
    "folder='3T_tfMRI_CARIT'\n",
    "#create folder for intermediate files storing\n",
    "os.makedirs(path+folder+'/MSMAll_cor/cort_MSMAll_av_Glasser')\n",
    "os.mkdir(path+folder+'/MSMAll_cor/cort_MSMAll_av_Glasser_txt')\n",
    "os.mkdir(path+folder+'/MSMAll_cor/subcort_MSMAll_con')\n",
    "os.mkdir(path+folder+'/MSMAll_cor/subc_FS_MSMAll_txt')\n",
    "\n",
    "#read subjects IDs\n",
    "subjects = [i.split('/')[-1] for i in  sorted(glob.glob(path+folder+'/data/*V1_MR'))]\n",
    "\n",
    "#remove subjects with issue in correct answers\n",
    "subjects.remove('HCA6848090_V1_MR')\n",
    "subjects.remove('HCA9126269_V1_MR')\n",
    "\n",
    "\n",
    "#assign the number of contrast to parcellate for each task (main task contrast)\n",
    "if folder == '3T_tfMRI_FACENAME':\n",
    "    con_nums = np.arange(1,7,1)\n",
    "if folder == '3T_tfMRI_VISMOTOR': \n",
    "    con_nums = [1]\n",
    "if folder == '3T_tfMRI_CARIT':\n",
    "    con_nums = [1, 3, 4]\n",
    "\n",
    "for subject in subjects:\n",
    "    for con_num in con_nums:\n",
    "\n",
    "        #file for parcellation\n",
    "        file = sorted(glob.glob(path+folder+'/*/'+subject+'/contrasts_cifti_cor/*'+str(con_num)+'*'))[0]\n",
    "\n",
    "        if os.path.isfile(file) == True:\n",
    "\n",
    "            #parcellate, extract txt, separate subcortex as nii\n",
    "            cmd1 = 'wb_command -cifti-parcellate ' + file +' '+ parc + ' COLUMN '+ path+folder+'/MSMAll_cor/cort_MSMAll_av_Glasser/'+subject+'.'+file.split('/')[-1].split('.')[0]+'.MSMAll.aver_parc.pscalar.nii' + ' -method MEAN'\n",
    "            cmd2 = 'wb_command -cifti-convert -to-text '+ path+folder+'/MSMAll_cor/cort_MSMAll_av_Glasser/'+subject+'.'+file.split('/')[-1].split('.')[0]+'.MSMAll.aver_parc.pscalar.nii' +' '+ path+folder+'/MSMAll_cor/cort_MSMAll_av_Glasser_txt/'+subject+'.'+file.split('/')[-1].split('.')[0]+'.MSMAll.aver_parc.txt'\n",
    "            cmd3 = 'wb_command -cifti-separate ' + file + ' COLUMN  ' + ' -volume-all ' + path+folder+'/MSMAll_cor/subcort_MSMAll_con/'+subject+'.'+file.split('/')[-1].split('.')[0]+'.MSMAll.con_subc.nii.gz'\n",
    "            os.system(cmd1)\n",
    "            os.system(cmd2)\n",
    "            os.system(cmd3)\n",
    "\n",
    "            #create folder for subcortex files\n",
    "            os.mkdir(path+folder+'/MSMAll_cor/subc_FS_MSMAll_txt/'+subject)\n",
    "\n",
    "            #extract txt for each subcortex structure\n",
    "            for mask in sorted(os.listdir(mask_fs_path)):\n",
    "                cmd4 = 'fslmeants -i ' + path+folder+'/MSMAll_cor/subcort_MSMAll_con/'+subject+'.'+file.split('/')[-1].split('.')[0]+'.MSMAll.con_subc.nii.gz' + ' -m ' + mask_fs_path+'/'+mask + ' -o ' + path+folder+'/MSMAll_cor/subc_FS_MSMAll_txt/'+subject+'/'+subject+'.'+file.split('/')[-1].split('.')[0]+'.FS_subcort.'+mask.split('.')[0]+'.mean.txt'\n",
    "                os.system(cmd4)\n",
    "        else:\n",
    "            print(subject, folder, ' cifti file issue, need to be reconstructed')"
   ]
  },
  {
   "cell_type": "markdown",
   "id": "fe916b61",
   "metadata": {},
   "source": [
    "##### Assembling scv tables "
   ]
  },
  {
   "cell_type": "code",
   "execution_count": 103,
   "id": "60c7b743",
   "metadata": {},
   "outputs": [],
   "source": [
    "for folder in folders:\n",
    "\n",
    "    subjects = [i.split('/')[-1].split('.')[0] for i in sorted(glob.glob(path+folder+'/MSMAll/cort_MSMAll_av_Glasser_txt/*'))]\n",
    "\n",
    "    dct_group = {}\n",
    "    for subject in subjects:\n",
    "        #reading file with Glasser atlas parcellation\n",
    "        df_cort = pd.read_csv(glob.glob(path+folder+'/MSMAll/cort_MSMAll_av_Glasser_txt/'+subject+'*')[0], \n",
    "                              header=None, squeeze=True)\n",
    "        df_cort.index = gla_index\n",
    "\n",
    "        #reading subcortex files\n",
    "        dct_subc = {}\n",
    "        for file in sorted(glob.glob(path+folder+'/MSMAll/subc_FS_MSMAll_txt/'+subject+'/*')):\n",
    "            dct_subc[str(file.split('.')[-3])] = np.loadtxt(file)\n",
    "        df_subc = (pd.Series(dct_subc))\n",
    "\n",
    "        dct_group[subject] = pd.concat([df_cort,df_subc], axis=0)\n",
    "\n",
    "    #save table\n",
    "    df_group = pd.DataFrame(dct_group).T\n",
    "    df_group.to_csv(path+folder+'/'+folder.split('_')[-1]+'_group_table.csv')"
   ]
  },
  {
   "cell_type": "code",
   "execution_count": null,
   "id": "38e38b79",
   "metadata": {},
   "outputs": [],
   "source": []
  },
  {
   "cell_type": "code",
   "execution_count": null,
   "id": "4f9f50c5",
   "metadata": {},
   "outputs": [],
   "source": []
  },
  {
   "cell_type": "code",
   "execution_count": null,
   "id": "565dadc5",
   "metadata": {},
   "outputs": [],
   "source": []
  },
  {
   "cell_type": "code",
   "execution_count": null,
   "id": "44108ddb",
   "metadata": {},
   "outputs": [],
   "source": []
  },
  {
   "cell_type": "code",
   "execution_count": null,
   "id": "3cc9e014",
   "metadata": {},
   "outputs": [],
   "source": []
  },
  {
   "cell_type": "code",
   "execution_count": null,
   "id": "be68e42e",
   "metadata": {},
   "outputs": [],
   "source": []
  }
 ],
 "metadata": {
  "kernelspec": {
   "display_name": "Python 3 (ipykernel)",
   "language": "python",
   "name": "python3"
  },
  "language_info": {
   "codemirror_mode": {
    "name": "ipython",
    "version": 3
   },
   "file_extension": ".py",
   "mimetype": "text/x-python",
   "name": "python",
   "nbconvert_exporter": "python",
   "pygments_lexer": "ipython3",
   "version": "3.7.10"
  }
 },
 "nbformat": 4,
 "nbformat_minor": 5
}
