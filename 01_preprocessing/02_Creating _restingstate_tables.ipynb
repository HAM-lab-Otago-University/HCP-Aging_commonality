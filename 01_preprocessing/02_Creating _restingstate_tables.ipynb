{
 "cells": [
  {
   "cell_type": "code",
   "execution_count": 1,
   "id": "22815298",
   "metadata": {},
   "outputs": [],
   "source": [
    "import pandas as pd\n",
    "import numpy as np\n",
    "import os\n",
    "import glob\n",
    "import sys"
   ]
  },
  {
   "cell_type": "code",
   "execution_count": 2,
   "id": "80d3ad09",
   "metadata": {},
   "outputs": [],
   "source": [
    "#path to folder with all subjects data\n",
    "\n",
    "path = '/media/data/HCPAging/data/RestRecommended/fmriresults01/'\n",
    "#create output dir\n",
    "os.makedirs('/media/data/HCPAging/data/3T_REST')\n",
    "path_out = '/media/data/HCPAging/data/3T_REST/'"
   ]
  },
  {
   "cell_type": "code",
   "execution_count": 3,
   "id": "78b89e71",
   "metadata": {},
   "outputs": [],
   "source": [
    "#read subjects\n",
    "subjects = sorted([name.split('/')[-1] for name in glob.glob(path+'*_V1_MR')])\n",
    "#print(len(subjects))"
   ]
  },
  {
   "cell_type": "code",
   "execution_count": 4,
   "id": "fe175e62",
   "metadata": {},
   "outputs": [
    {
     "name": "stdout",
     "output_type": "stream",
     "text": [
      "['rfMRI_REST', 'rfMRI_REST1_AP', 'rfMRI_REST1_PA', 'rfMRI_REST2_AP', 'rfMRI_REST2_PA']\n"
     ]
    }
   ],
   "source": [
    "#read rest types\n",
    "rest_types = sorted(os.listdir(path+subjects[0]+'/MNINonLinear/Results/'))\n",
    "print(rest_types)"
   ]
  },
  {
   "cell_type": "markdown",
   "id": "aa50682e",
   "metadata": {},
   "source": [
    "### Movements"
   ]
  },
  {
   "cell_type": "code",
   "execution_count": 5,
   "id": "28ca4441",
   "metadata": {},
   "outputs": [],
   "source": [
    "#Assembling 4 movements file into one\n",
    "dct_mov={}\n",
    "for rtype in rest_types[1:]: #for separate single  scans folders\n",
    "    vec = np.array([], dtype=float)\n",
    "    nms = []\n",
    "    rsubjs = sorted([i.split('/')[-4] for i in glob.glob(path + '*/*/*/'+rtype)])\n",
    "    for subject in rsubjs:\n",
    "        file = glob.glob(path + subject +'/*/*/'+rtype+'/Movement_RelativeRMS_mean*')\n",
    "        #print(file)\n",
    "        if os.path.isfile(file[0]) == True:\n",
    "            #print('ok', subject, rtype)\n",
    "            nms += [subject]\n",
    "            vec = np.append(vec, np.loadtxt(file[0]))\n",
    "        else:\n",
    "            print('issue')\n",
    "    dct_mov[rtype] = pd.Series(vec, index=nms)\n",
    "        \n",
    "df_mov = pd.DataFrame(dct_mov)        "
   ]
  },
  {
   "cell_type": "code",
   "execution_count": 6,
   "id": "f50dcb78",
   "metadata": {},
   "outputs": [],
   "source": [
    "#Save table without NA\n",
    "df_mov.dropna(axis=0).to_csv(path_out+'movements_table_4runs_REST_without_nan.csv')\n",
    "df_mov.dropna(axis=0).T.mean().to_csv(path_out+'movement_table_averaged_4runs.csv', header=False)"
   ]
  },
  {
   "cell_type": "markdown",
   "id": "181536ec",
   "metadata": {},
   "source": [
    "### CIFTI files"
   ]
  },
  {
   "cell_type": "code",
   "execution_count": 7,
   "id": "6a1ae06a",
   "metadata": {},
   "outputs": [],
   "source": [
    "#subjects without nan\n",
    "subjects = sorted(df_mov.dropna(axis=0).index)"
   ]
  },
  {
   "cell_type": "code",
   "execution_count": 8,
   "id": "9100d4a4",
   "metadata": {},
   "outputs": [
    {
     "data": {
      "text/plain": [
       "720"
      ]
     },
     "execution_count": 8,
     "metadata": {},
     "output_type": "execute_result"
    }
   ],
   "source": [
    "len(subjects)"
   ]
  },
  {
   "cell_type": "code",
   "execution_count": 9,
   "id": "c81795d5",
   "metadata": {},
   "outputs": [],
   "source": [
    "#atlases\n",
    "parc='/media/DataD800/Alina/atlases/Q1-Q6_RelatedValidation210.CorticalAreas_dil_Final_Final_Areas_Group_Colors.32k_fs_LR.dlabel.nii'\n",
    "mask_fs_path='/media/DataD800/Alina/atlases/FS_subcort'\n",
    "gla_index = np.loadtxt('/media/DataD800/Alina/atlases/gla_index.txt', dtype=str)"
   ]
  },
  {
   "cell_type": "code",
   "execution_count": 18,
   "id": "afe8b2c2",
   "metadata": {},
   "outputs": [],
   "source": [
    "#create folder for intermediate files storing\n",
    "os.makedirs(path_out+'MSMAll/cort_MSMAll_av_Glasser')\n",
    "os.mkdir(path_out+'MSMAll/cort_MSMAll_av_Glasser_txt')\n",
    "os.mkdir(path_out+'MSMAll/subcort_MSMAll_con')\n",
    "os.mkdir(path_out+'MSMAll/subc_FS_MSMAll_txt')"
   ]
  },
  {
   "cell_type": "code",
   "execution_count": 11,
   "id": "60cfbfb7",
   "metadata": {},
   "outputs": [],
   "source": [
    "for subject in subjects:\n",
    "    if os.path.isfile(path+subject+'/MNINonLinear/Results/'+rest_types[0]+'/rfMRI_REST_Atlas_MSMAll_hp0_clean.dtseries.nii') == False:\n",
    "        print(subject, 'does not have rfMRI file!')"
   ]
  },
  {
   "cell_type": "markdown",
   "id": "64193f05",
   "metadata": {},
   "source": [
    "##### launch file creation through cmd line"
   ]
  },
  {
   "cell_type": "code",
   "execution_count": 20,
   "id": "5f640734",
   "metadata": {},
   "outputs": [],
   "source": [
    "#extract surface, parcelate it to gla atlas, save txt, extract subcortex as nii\n",
    "# split subcortex to structures, and extract average timecouses from structure\n",
    "#import time\n",
    "for subject in subjects:\n",
    "    #apply Glasser altas to surface\n",
    "    cmd1 = 'wb_command -cifti-parcellate ' + path+subject+'/MNINonLinear/Results/'+rest_types[0]+'/rfMRI_REST_Atlas_MSMAll_hp0_clean.dtseries.nii ' + parc + ' COLUMN '+ path_out+'MSMAll/cort_MSMAll_av_Glasser/'+subject+'.MSMAll.aver_parc.ptseries.nii' + ' -method MEAN'\n",
    "    #save to txt\n",
    "    cmd2 = 'wb_command -cifti-convert -to-text '+ path_out+'MSMAll/cort_MSMAll_av_Glasser/'+subject+'.MSMAll.aver_parc.ptseries.nii ' + path_out+'MSMAll/cort_MSMAll_av_Glasser_txt/'+subject+'.MSMAll.aver_parc.txt'\n",
    "    #separate subcortex as nifti file\n",
    "    cmd3 = 'wb_command -cifti-separate ' + path+subject+'/MNINonLinear/Results/'+rest_types[0]+'/rfMRI_REST_Atlas_MSMAll_hp0_clean.dtseries.nii ' + ' COLUMN  ' + ' -volume-all ' + path_out+'MSMAll/subcort_MSMAll_con/'+subject+'.MSMAll.con_subc.nii'\n",
    "    os.system(cmd1)\n",
    "    os.system(cmd2)\n",
    "    os.system(cmd3)\n",
    "    os.mkdir(path_out+'MSMAll/subc_FS_MSMAll_txt/'+subject)\n",
    "    #apply masks to nifti subcortex and extract txt\n",
    "    for mask in sorted(os.listdir(mask_fs_path)):\n",
    "        cmd4 = 'fslmeants -i ' + path_out+'MSMAll/subcort_MSMAll_con/'+subject+'.MSMAll.con_subc.nii' + ' -m ' + mask_fs_path+'/'+mask + ' -o ' + path_out+'MSMAll/subc_FS_MSMAll_txt/'+subject+'/'+subject+'.FS_subcort.'+mask.split('.')[0]+'.mean.txt'\n",
    "        os.system(cmd4)\n",
    "    #time.sleep(35)    "
   ]
  },
  {
   "cell_type": "markdown",
   "id": "72f5108c",
   "metadata": {},
   "source": [
    "##### Assembling scv tables "
   ]
  },
  {
   "cell_type": "code",
   "execution_count": 12,
   "id": "15bdc312",
   "metadata": {},
   "outputs": [],
   "source": [
    "dct_group_fc = {}\n",
    "os.mkdir(path_out+'timecourse_tables')\n",
    "os.mkdir(path_out+'corrmatrix_tables_Z') #for r-to-z tables\n",
    "\n",
    "for subject in subjects:\n",
    "    #reading file with Glasser atlas parcellation\n",
    "    df_rcort = pd.read_csv(glob.glob(path_out+'MSMAll/cort_MSMAll_av_Glasser_txt/'+subject+\"*\")[0], \n",
    "                           sep='\\t', header=None)\n",
    "    df_rcort.index = gla_index\n",
    "    \n",
    "    #reading subcortex files\n",
    "    dct_rsubc = {}\n",
    "    for file in sorted(glob.glob(path_out+'MSMAll/subc_FS_MSMAll_txt/'+subject+'/*')):\n",
    "        dct_rsubc[str(file.split('.')[-3])] = np.loadtxt(file)\n",
    "    df_subc = pd.DataFrame(dct_rsubc).T\n",
    "\n",
    "    #combine cort and subc into one table\n",
    "    df_rest = pd.concat([df_rcort , df_subc], axis=0)\n",
    "\n",
    "    #create correlation matrix and do r-to-z\n",
    "    df_rest_corr = df_rest.T.corr()\n",
    "    df_rest_corr_z = np.arctanh(df_rest_corr) #r-to-z\n",
    "\n",
    "    #transform matrix to string for the subjec\n",
    "    dfg = df_rest_corr_z.where(np.triu(np.ones(df_rest_corr_z.shape), k=1).astype(bool)).stack().reset_index()\n",
    "    indx = [i+'_&_'+j for i,j in zip(dfg['level_0'], dfg['level_1'])]\n",
    "    fc_string = pd.Series(np.array(dfg[0]),index=indx)\n",
    "    dct_group_fc[subject] = fc_string #dictionary for group table\n",
    "\n",
    "    #save individual files\n",
    "    df_rest.to_csv(path_out+'timecourse_tables/'+subject+'_rest_timecourse.csv')\n",
    "    df_rest_corr_z.to_csv(path_out+'corrmatrix_tables_Z/'+subject+'_rest_fc_z.csv')\n",
    "\n",
    "#save group FC table\n",
    "df_group_fc = pd.DataFrame(dct_group_fc).T\n",
    "df_group_fc.to_csv(path_out+'FC_rest_group_z.csv')"
   ]
  },
  {
   "cell_type": "code",
   "execution_count": null,
   "id": "bca2769a",
   "metadata": {},
   "outputs": [],
   "source": []
  },
  {
   "cell_type": "code",
   "execution_count": null,
   "id": "f3db550a",
   "metadata": {},
   "outputs": [],
   "source": []
  },
  {
   "cell_type": "code",
   "execution_count": null,
   "id": "c094ba16",
   "metadata": {},
   "outputs": [],
   "source": []
  },
  {
   "cell_type": "code",
   "execution_count": null,
   "id": "112da575",
   "metadata": {},
   "outputs": [],
   "source": []
  },
  {
   "cell_type": "code",
   "execution_count": null,
   "id": "db8d818f",
   "metadata": {},
   "outputs": [],
   "source": []
  },
  {
   "cell_type": "code",
   "execution_count": null,
   "id": "438b9b5f",
   "metadata": {},
   "outputs": [],
   "source": []
  },
  {
   "cell_type": "code",
   "execution_count": null,
   "id": "9ced5fed",
   "metadata": {},
   "outputs": [],
   "source": []
  },
  {
   "cell_type": "code",
   "execution_count": null,
   "id": "3a9a8f24",
   "metadata": {},
   "outputs": [],
   "source": []
  },
  {
   "cell_type": "code",
   "execution_count": null,
   "id": "6ba1144b",
   "metadata": {},
   "outputs": [],
   "source": []
  },
  {
   "cell_type": "code",
   "execution_count": null,
   "id": "0101599c",
   "metadata": {},
   "outputs": [],
   "source": []
  }
 ],
 "metadata": {
  "kernelspec": {
   "display_name": "Python 3 (ipykernel)",
   "language": "python",
   "name": "python3"
  },
  "language_info": {
   "codemirror_mode": {
    "name": "ipython",
    "version": 3
   },
   "file_extension": ".py",
   "mimetype": "text/x-python",
   "name": "python",
   "nbconvert_exporter": "python",
   "pygments_lexer": "ipython3",
   "version": "3.7.10"
  }
 },
 "nbformat": 4,
 "nbformat_minor": 5
}
