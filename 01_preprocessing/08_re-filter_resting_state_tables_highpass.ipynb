{
 "cells": [
  {
   "cell_type": "code",
   "execution_count": 12,
   "id": "0595e08c",
   "metadata": {},
   "outputs": [],
   "source": [
    "import pandas as pd\n",
    "import numpy as np\n",
    "import os\n",
    "import glob\n",
    "import sys\n",
    "import nilearn.signal as nls\n",
    "import matplotlib.pyplot as plt\n",
    "from scipy.stats import zscore as zscore"
   ]
  },
  {
   "cell_type": "code",
   "execution_count": 2,
   "id": "92cb683d",
   "metadata": {},
   "outputs": [],
   "source": [
    "path='/media/data/HCPAging/data/3T_REST/'"
   ]
  },
  {
   "cell_type": "code",
   "execution_count": 5,
   "id": "c4fc4cdc",
   "metadata": {},
   "outputs": [
    {
     "name": "stdout",
     "output_type": "stream",
     "text": [
      "/media/data/HCPAging/data/3T_REST/timecourse_tables/HCA6002236_V1_MR_rest_timecourse.csv\n"
     ]
    }
   ],
   "source": [
    "files = sorted(glob.glob(path+'timecourse_tables'+'/'+'*'+'_rest_timecourse.csv'))\n",
    "print(files[0])"
   ]
  },
  {
   "cell_type": "code",
   "execution_count": 10,
   "id": "e7804759",
   "metadata": {},
   "outputs": [],
   "source": [
    "timecourses = {}\n",
    "for file in files:\n",
    "    timecourses[file.split('/')[-1].split('_')[0]] = pd.read_csv(file, index_col=0)"
   ]
  },
  {
   "cell_type": "code",
   "execution_count": 20,
   "id": "2bdb3cba",
   "metadata": {},
   "outputs": [],
   "source": [
    "timecourses_filt = {}\n",
    "for key in timecourses.keys():\n",
    "    timecourses_filt[key] = pd.DataFrame(nls.clean(timecourses[key].T.values, t_r=0.8, detrend=False, high_pass=0.008),\n",
    "                                  columns=timecourses[key].T.columns)"
   ]
  },
  {
   "cell_type": "code",
   "execution_count": 23,
   "id": "cec4c10b",
   "metadata": {},
   "outputs": [],
   "source": [
    "timecourses_filt_corr_z = {}\n",
    "dct_group_task_FC = {}\n",
    "\n",
    "for key in timecourses.keys():\n",
    "    \n",
    "    ### Calculate correlation matrix and make r-to-z transformation\n",
    "    timecourses_filt_corr_z[key] = np.arctanh(timecourses_filt[key].corr()) # r-to-z\n",
    "    \n",
    "    ### Transform matrix to string for the subject\n",
    "    dfg = timecourses_filt_corr_z[key].where(np.triu(np.ones(timecourses_filt_corr_z[key].shape), k=1).astype(bool)).stack().reset_index()\n",
    "    indx = [i+'_&_'+j for i,j in zip(dfg['level_0'], dfg['level_1'])]\n",
    "    fc_string = pd.Series(np.array(dfg[0]),index=indx)\n",
    "    \n",
    "    ### write result into group table\n",
    "    dct_group_task_FC[key] = fc_string\n",
    "\n",
    "df_group_task_FC = pd.DataFrame(dct_group_task_FC)"
   ]
  },
  {
   "cell_type": "code",
   "execution_count": 27,
   "id": "48fe6539",
   "metadata": {},
   "outputs": [],
   "source": [
    "df_group_task_FC.T.to_csv(path+'FC_rest_group_z_hpass.csv')"
   ]
  },
  {
   "cell_type": "code",
   "execution_count": null,
   "id": "db73068f",
   "metadata": {},
   "outputs": [],
   "source": [
    "# read  existing sibject id\n",
    "sID = pd.read_csv('/media/data/HCPAging/data/MLTablesMultCon/demography.csv', index_col=0).index.values\n",
    "#print(len(sID))"
   ]
  },
  {
   "cell_type": "code",
   "execution_count": 31,
   "id": "1b516f63",
   "metadata": {},
   "outputs": [],
   "source": [
    "df_group_task_FC.T.reindex(index=sID).to_csv('/media/data/HCPAging/data/MLTablesMultCon/rest_hpass.csv')"
   ]
  },
  {
   "cell_type": "code",
   "execution_count": null,
   "id": "dfed3ea2",
   "metadata": {},
   "outputs": [],
   "source": []
  },
  {
   "cell_type": "code",
   "execution_count": null,
   "id": "4a6e2c28",
   "metadata": {},
   "outputs": [],
   "source": []
  }
 ],
 "metadata": {
  "kernelspec": {
   "display_name": "Python 3 (ipykernel)",
   "language": "python",
   "name": "python3"
  },
  "language_info": {
   "codemirror_mode": {
    "name": "ipython",
    "version": 3
   },
   "file_extension": ".py",
   "mimetype": "text/x-python",
   "name": "python",
   "nbconvert_exporter": "python",
   "pygments_lexer": "ipython3",
   "version": "3.7.10"
  }
 },
 "nbformat": 4,
 "nbformat_minor": 5
}
